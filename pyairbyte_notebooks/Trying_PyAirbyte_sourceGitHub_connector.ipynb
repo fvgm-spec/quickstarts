{
  "cells": [
    {
      "cell_type": "markdown",
      "metadata": {
        "id": "view-in-github",
        "colab_type": "text"
      },
      "source": [
        "<a href=\"https://colab.research.google.com/github/fvgm-spec/learn-airbyte/blob/main/Trying_PyAirbyte.ipynb\" target=\"_parent\"><img src=\"https://colab.research.google.com/assets/colab-badge.svg\" alt=\"Open In Colab\"/></a>"
      ]
    },
    {
      "cell_type": "markdown",
      "metadata": {
        "id": "EbeQfwhUxxep"
      },
      "source": [
        "### Trying PyAirbyte"
      ]
    },
    {
      "cell_type": "code",
      "execution_count": 1,
      "metadata": {
        "colab": {
          "base_uri": "https://localhost:8080/"
        },
        "id": "85Cm16E3x0xy",
        "outputId": "814a8f08-13cf-4a43-dd93-7674c16c9b90"
      },
      "outputs": [
        {
          "output_type": "stream",
          "name": "stdout",
          "text": [
            "Selecting previously unselected package python3-pip-whl.\n",
            "(Reading database ... 131015 files and directories currently installed.)\n",
            "Preparing to unpack .../python3-pip-whl_22.0.2+dfsg-1ubuntu0.4_all.deb ...\n",
            "Unpacking python3-pip-whl (22.0.2+dfsg-1ubuntu0.4) ...\n",
            "Selecting previously unselected package python3-setuptools-whl.\n",
            "Preparing to unpack .../python3-setuptools-whl_59.6.0-1.2ubuntu0.22.04.1_all.deb ...\n",
            "Unpacking python3-setuptools-whl (59.6.0-1.2ubuntu0.22.04.1) ...\n",
            "Selecting previously unselected package python3.10-venv.\n",
            "Preparing to unpack .../python3.10-venv_3.10.12-1~22.04.3_amd64.deb ...\n",
            "Unpacking python3.10-venv (3.10.12-1~22.04.3) ...\n",
            "Setting up python3-setuptools-whl (59.6.0-1.2ubuntu0.22.04.1) ...\n",
            "Setting up python3-pip-whl (22.0.2+dfsg-1ubuntu0.4) ...\n",
            "Setting up python3.10-venv (3.10.12-1~22.04.3) ...\n"
          ]
        }
      ],
      "source": [
        "# Add virtual environment support for running in Google Colab\n",
        "!apt-get install -qq python3.10-venv"
      ]
    },
    {
      "cell_type": "code",
      "execution_count": 2,
      "metadata": {
        "colab": {
          "base_uri": "https://localhost:8080/"
        },
        "id": "Hr_Igj0WymVQ",
        "outputId": "73a3eba9-2da8-4c2b-9456-2328abe82b07"
      },
      "outputs": [
        {
          "output_type": "stream",
          "name": "stdout",
          "text": [
            "\u001b[2K     \u001b[90m━━━━━━━━━━━━━━━━━━━━━━━━━━━━━━━━━━━━━━━━\u001b[0m \u001b[32m113.8/113.8 kB\u001b[0m \u001b[31m2.3 MB/s\u001b[0m eta \u001b[36m0:00:00\u001b[0m\n",
            "\u001b[2K     \u001b[90m━━━━━━━━━━━━━━━━━━━━━━━━━━━━━━━━━━━━━━━━\u001b[0m \u001b[32m432.0/432.0 kB\u001b[0m \u001b[31m11.1 MB/s\u001b[0m eta \u001b[36m0:00:00\u001b[0m\n",
            "\u001b[2K     \u001b[90m━━━━━━━━━━━━━━━━━━━━━━━━━━━━━━━━━━━━━━━━\u001b[0m \u001b[32m713.4/713.4 kB\u001b[0m \u001b[31m22.6 MB/s\u001b[0m eta \u001b[36m0:00:00\u001b[0m\n",
            "\u001b[2K     \u001b[90m━━━━━━━━━━━━━━━━━━━━━━━━━━━━━━━━━━━━━━━━\u001b[0m \u001b[32m16.5/16.5 MB\u001b[0m \u001b[31m31.9 MB/s\u001b[0m eta \u001b[36m0:00:00\u001b[0m\n",
            "\u001b[2K     \u001b[90m━━━━━━━━━━━━━━━━━━━━━━━━━━━━━━━━━━━━━━━━\u001b[0m \u001b[32m43.1/43.1 kB\u001b[0m \u001b[31m3.9 MB/s\u001b[0m eta \u001b[36m0:00:00\u001b[0m\n",
            "\u001b[2K     \u001b[90m━━━━━━━━━━━━━━━━━━━━━━━━━━━━━━━━━━━━━━━━\u001b[0m \u001b[32m178.7/178.7 kB\u001b[0m \u001b[31m13.3 MB/s\u001b[0m eta \u001b[36m0:00:00\u001b[0m\n",
            "\u001b[2K     \u001b[90m━━━━━━━━━━━━━━━━━━━━━━━━━━━━━━━━━━━━━━━━\u001b[0m \u001b[32m138.5/138.5 kB\u001b[0m \u001b[31m2.4 MB/s\u001b[0m eta \u001b[36m0:00:00\u001b[0m\n",
            "\u001b[2K     \u001b[90m━━━━━━━━━━━━━━━━━━━━━━━━━━━━━━━━━━━━━━━━\u001b[0m \u001b[32m384.9/384.9 kB\u001b[0m \u001b[31m20.6 MB/s\u001b[0m eta \u001b[36m0:00:00\u001b[0m\n",
            "\u001b[2K     \u001b[90m━━━━━━━━━━━━━━━━━━━━━━━━━━━━━━━━━━━━━━━━\u001b[0m \u001b[32m3.0/3.0 MB\u001b[0m \u001b[31m56.3 MB/s\u001b[0m eta \u001b[36m0:00:00\u001b[0m\n",
            "\u001b[2K     \u001b[90m━━━━━━━━━━━━━━━━━━━━━━━━━━━━━━━━━━━━━━━━\u001b[0m \u001b[32m355.6/355.6 kB\u001b[0m \u001b[31m14.6 MB/s\u001b[0m eta \u001b[36m0:00:00\u001b[0m\n",
            "\u001b[2K     \u001b[90m━━━━━━━━━━━━━━━━━━━━━━━━━━━━━━━━━━━━━━━━\u001b[0m \u001b[32m2.5/2.5 MB\u001b[0m \u001b[31m39.4 MB/s\u001b[0m eta \u001b[36m0:00:00\u001b[0m\n",
            "\u001b[2K     \u001b[90m━━━━━━━━━━━━━━━━━━━━━━━━━━━━━━━━━━━━━━━━\u001b[0m \u001b[32m42.4/42.4 kB\u001b[0m \u001b[31m3.5 MB/s\u001b[0m eta \u001b[36m0:00:00\u001b[0m\n",
            "\u001b[2K     \u001b[90m━━━━━━━━━━━━━━━━━━━━━━━━━━━━━━━━━━━━━━━━\u001b[0m \u001b[32m1.6/1.6 MB\u001b[0m \u001b[31m27.2 MB/s\u001b[0m eta \u001b[36m0:00:00\u001b[0m\n",
            "\u001b[?25h  Preparing metadata (setup.py) ... \u001b[?25l\u001b[?25hdone\n",
            "\u001b[2K     \u001b[90m━━━━━━━━━━━━━━━━━━━━━━━━━━━━━━━━━━━━━━━━\u001b[0m \u001b[32m105.0/105.0 kB\u001b[0m \u001b[31m5.0 MB/s\u001b[0m eta \u001b[36m0:00:00\u001b[0m\n",
            "\u001b[2K     \u001b[90m━━━━━━━━━━━━━━━━━━━━━━━━━━━━━━━━━━━━━━━━\u001b[0m \u001b[32m4.4/4.4 MB\u001b[0m \u001b[31m62.2 MB/s\u001b[0m eta \u001b[36m0:00:00\u001b[0m\n",
            "\u001b[2K     \u001b[90m━━━━━━━━━━━━━━━━━━━━━━━━━━━━━━━━━━━━━━━━\u001b[0m \u001b[32m58.8/58.8 kB\u001b[0m \u001b[31m6.0 MB/s\u001b[0m eta \u001b[36m0:00:00\u001b[0m\n",
            "\u001b[2K     \u001b[90m━━━━━━━━━━━━━━━━━━━━━━━━━━━━━━━━━━━━━━━━\u001b[0m \u001b[32m49.4/49.4 kB\u001b[0m \u001b[31m5.4 MB/s\u001b[0m eta \u001b[36m0:00:00\u001b[0m\n",
            "\u001b[2K     \u001b[90m━━━━━━━━━━━━━━━━━━━━━━━━━━━━━━━━━━━━━━━━\u001b[0m \u001b[32m41.7/41.7 kB\u001b[0m \u001b[31m4.6 MB/s\u001b[0m eta \u001b[36m0:00:00\u001b[0m\n",
            "\u001b[2K     \u001b[90m━━━━━━━━━━━━━━━━━━━━━━━━━━━━━━━━━━━━━━━━\u001b[0m \u001b[32m56.3/56.3 kB\u001b[0m \u001b[31m6.0 MB/s\u001b[0m eta \u001b[36m0:00:00\u001b[0m\n",
            "\u001b[2K     \u001b[90m━━━━━━━━━━━━━━━━━━━━━━━━━━━━━━━━━━━━━━━━\u001b[0m \u001b[32m81.2/81.2 kB\u001b[0m \u001b[31m7.7 MB/s\u001b[0m eta \u001b[36m0:00:00\u001b[0m\n",
            "\u001b[?25h  Installing build dependencies ... \u001b[?25l\u001b[?25hdone\n",
            "  Getting requirements to build wheel ... \u001b[?25l\u001b[?25hdone\n",
            "  Preparing metadata (pyproject.toml) ... \u001b[?25l\u001b[?25hdone\n",
            "  Preparing metadata (setup.py) ... \u001b[?25l\u001b[?25hdone\n",
            "\u001b[2K     \u001b[90m━━━━━━━━━━━━━━━━━━━━━━━━━━━━━━━━━━━━━━━━\u001b[0m \u001b[32m3.1/3.1 MB\u001b[0m \u001b[31m96.5 MB/s\u001b[0m eta \u001b[36m0:00:00\u001b[0m\n",
            "\u001b[2K     \u001b[90m━━━━━━━━━━━━━━━━━━━━━━━━━━━━━━━━━━━━━━━━\u001b[0m \u001b[32m61.4/61.4 kB\u001b[0m \u001b[31m7.1 MB/s\u001b[0m eta \u001b[36m0:00:00\u001b[0m\n",
            "\u001b[2K     \u001b[90m━━━━━━━━━━━━━━━━━━━━━━━━━━━━━━━━━━━━━━━━\u001b[0m \u001b[32m40.0/40.0 kB\u001b[0m \u001b[31m3.8 MB/s\u001b[0m eta \u001b[36m0:00:00\u001b[0m\n",
            "\u001b[2K     \u001b[90m━━━━━━━━━━━━━━━━━━━━━━━━━━━━━━━━━━━━━━━━\u001b[0m \u001b[32m117.7/117.7 kB\u001b[0m \u001b[31m11.7 MB/s\u001b[0m eta \u001b[36m0:00:00\u001b[0m\n",
            "\u001b[2K     \u001b[90m━━━━━━━━━━━━━━━━━━━━━━━━━━━━━━━━━━━━━━━━\u001b[0m \u001b[32m490.0/490.0 kB\u001b[0m \u001b[31m29.9 MB/s\u001b[0m eta \u001b[36m0:00:00\u001b[0m\n",
            "\u001b[2K     \u001b[90m━━━━━━━━━━━━━━━━━━━━━━━━━━━━━━━━━━━━━━━━\u001b[0m \u001b[32m57.5/57.5 kB\u001b[0m \u001b[31m4.2 MB/s\u001b[0m eta \u001b[36m0:00:00\u001b[0m\n",
            "\u001b[?25h  Building wheel for genson (setup.py) ... \u001b[?25l\u001b[?25hdone\n",
            "  Building wheel for pendulum (pyproject.toml) ... \u001b[?25l\u001b[?25hdone\n",
            "  Building wheel for ulid (setup.py) ... \u001b[?25l\u001b[?25hdone\n",
            "\u001b[31mERROR: pip's dependency resolver does not currently take into account all the packages that are installed. This behaviour is the source of the following dependency conflicts.\n",
            "ipython-sql 0.5.0 requires sqlalchemy>=2.0, but you have sqlalchemy 1.4.51 which is incompatible.\u001b[0m\u001b[31m\n",
            "\u001b[0m"
          ]
        }
      ],
      "source": [
        "# Install PyAirbyte\n",
        "%pip install --quiet airbyte"
      ]
    },
    {
      "cell_type": "markdown",
      "metadata": {
        "id": "c_FGiYwRzbxf"
      },
      "source": [
        "### Locating the Data Source"
      ]
    },
    {
      "cell_type": "code",
      "execution_count": 3,
      "metadata": {
        "colab": {
          "base_uri": "https://localhost:8080/"
        },
        "id": "FDjaFJVOynDx",
        "outputId": "1bacadda-9729-49f9-cad4-29a0525e07a2"
      },
      "outputs": [
        {
          "output_type": "stream",
          "name": "stdout",
          "text": [
            "Thank you for using PyAirbyte!\n",
            "Anonymous usage reporting is currently enabled. For more information, please see https://docs.airbyte.com/telemetry\n"
          ]
        },
        {
          "output_type": "execute_result",
          "data": {
            "text/plain": [
              "['source-activecampaign',\n",
              " 'source-adjust',\n",
              " 'source-aha',\n",
              " 'source-aircall',\n",
              " 'source-airtable',\n",
              " 'source-alpha-vantage',\n",
              " 'source-amazon-ads',\n",
              " 'source-amazon-seller-partner',\n",
              " 'source-amazon-sqs',\n",
              " 'source-amplitude',\n",
              " 'source-apify-dataset',\n",
              " 'source-appfollow',\n",
              " 'source-apple-search-ads',\n",
              " 'source-appsflyer',\n",
              " 'source-asana',\n",
              " 'source-ashby',\n",
              " 'source-auth0',\n",
              " 'source-avni',\n",
              " 'source-aws-cloudtrail',\n",
              " 'source-azure-blob-storage',\n",
              " 'source-azure-table',\n",
              " 'source-babelforce',\n",
              " 'source-bamboo-hr',\n",
              " 'source-bing-ads',\n",
              " 'source-braintree',\n",
              " 'source-braze',\n",
              " 'source-breezometer',\n",
              " 'source-callrail',\n",
              " 'source-captain-data',\n",
              " 'source-cart',\n",
              " 'source-chargebee',\n",
              " 'source-chargify',\n",
              " 'source-chartmogul',\n",
              " 'source-clickup-api',\n",
              " 'source-clockify',\n",
              " 'source-close-com',\n",
              " 'source-coda',\n",
              " 'source-coin-api',\n",
              " 'source-coingecko-coins',\n",
              " 'source-coinmarketcap',\n",
              " 'source-commcare',\n",
              " 'source-commercetools',\n",
              " 'source-configcat',\n",
              " 'source-confluence',\n",
              " 'source-convertkit',\n",
              " 'source-convex',\n",
              " 'source-copper',\n",
              " 'source-datadog',\n",
              " 'source-datascope',\n",
              " 'source-delighted',\n",
              " 'source-dixa',\n",
              " 'source-dockerhub',\n",
              " 'source-dremio',\n",
              " 'source-drift',\n",
              " 'source-emailoctopus',\n",
              " 'source-everhour',\n",
              " 'source-exchange-rates',\n",
              " 'source-facebook-marketing',\n",
              " 'source-facebook-pages',\n",
              " 'source-faker',\n",
              " 'source-fastbill',\n",
              " 'source-fauna',\n",
              " 'source-file',\n",
              " 'source-firebase-realtime-database',\n",
              " 'source-firebolt',\n",
              " 'source-flexport',\n",
              " 'source-freshcaller',\n",
              " 'source-freshdesk',\n",
              " 'source-freshsales',\n",
              " 'source-freshservice',\n",
              " 'source-fullstory',\n",
              " 'source-gainsight-px',\n",
              " 'source-gcs',\n",
              " 'source-genesys',\n",
              " 'source-getlago',\n",
              " 'source-github',\n",
              " 'source-gitlab',\n",
              " 'source-glassfrog',\n",
              " 'source-gocardless',\n",
              " 'source-gong',\n",
              " 'source-google-ads',\n",
              " 'source-google-analytics-data-api',\n",
              " 'source-google-analytics-v4',\n",
              " 'source-google-directory',\n",
              " 'source-google-drive',\n",
              " 'source-google-pagespeed-insights',\n",
              " 'source-google-search-console',\n",
              " 'source-google-sheets',\n",
              " 'source-google-webfonts',\n",
              " 'source-greenhouse',\n",
              " 'source-gridly',\n",
              " 'source-gutendex',\n",
              " 'source-harvest',\n",
              " 'source-hellobaton',\n",
              " 'source-hubplanner',\n",
              " 'source-hubspot',\n",
              " 'source-insightly',\n",
              " 'source-instagram',\n",
              " 'source-instatus',\n",
              " 'source-intercom',\n",
              " 'source-intruder',\n",
              " 'source-ip2whois',\n",
              " 'source-iterable',\n",
              " 'source-jira',\n",
              " 'source-k6-cloud',\n",
              " 'source-klarna',\n",
              " 'source-klaus-api',\n",
              " 'source-klaviyo',\n",
              " 'source-kyriba',\n",
              " 'source-kyve',\n",
              " 'source-launchdarkly',\n",
              " 'source-lemlist',\n",
              " 'source-lever-hiring',\n",
              " 'source-linkedin-ads',\n",
              " 'source-linkedin-pages',\n",
              " 'source-linnworks',\n",
              " 'source-lokalise',\n",
              " 'source-looker',\n",
              " 'source-mailchimp',\n",
              " 'source-mailerlite',\n",
              " 'source-mailersend',\n",
              " 'source-mailgun',\n",
              " 'source-mailjet-mail',\n",
              " 'source-mailjet-sms',\n",
              " 'source-marketo',\n",
              " 'source-merge',\n",
              " 'source-metabase',\n",
              " 'source-microsoft-dataverse',\n",
              " 'source-microsoft-onedrive',\n",
              " 'source-microsoft-sharepoint',\n",
              " 'source-microsoft-teams',\n",
              " 'source-mixpanel',\n",
              " 'source-monday',\n",
              " 'source-my-hours',\n",
              " 'source-n8n',\n",
              " 'source-nasa',\n",
              " 'source-netsuite',\n",
              " 'source-news-api',\n",
              " 'source-newsdata',\n",
              " 'source-notion',\n",
              " 'source-nytimes',\n",
              " 'source-okta',\n",
              " 'source-omnisend',\n",
              " 'source-onesignal',\n",
              " 'source-open-exchange-rates',\n",
              " 'source-openweather',\n",
              " 'source-opsgenie',\n",
              " 'source-orb',\n",
              " 'source-orbit',\n",
              " 'source-oura',\n",
              " 'source-outbrain-amplify',\n",
              " 'source-outreach',\n",
              " 'source-pardot',\n",
              " 'source-partnerstack',\n",
              " 'source-paypal-transaction',\n",
              " 'source-paystack',\n",
              " 'source-pendo',\n",
              " 'source-persistiq',\n",
              " 'source-pexels-api',\n",
              " 'source-pinterest',\n",
              " 'source-pipedrive',\n",
              " 'source-pivotal-tracker',\n",
              " 'source-plaid',\n",
              " 'source-plausible',\n",
              " 'source-pocket',\n",
              " 'source-pokeapi',\n",
              " 'source-polygon-stock-api',\n",
              " 'source-posthog',\n",
              " 'source-postmarkapp',\n",
              " 'source-prestashop',\n",
              " 'source-primetric',\n",
              " 'source-public-apis',\n",
              " 'source-punk-api',\n",
              " 'source-pypi',\n",
              " 'source-qualaroo',\n",
              " 'source-quickbooks',\n",
              " 'source-railz',\n",
              " 'source-rd-station-marketing',\n",
              " 'source-recharge',\n",
              " 'source-recreation',\n",
              " 'source-recruitee',\n",
              " 'source-recurly',\n",
              " 'source-reply-io',\n",
              " 'source-retently',\n",
              " 'source-ringcentral',\n",
              " 'source-rki-covid',\n",
              " 'source-rocket-chat',\n",
              " 'source-rss',\n",
              " 'source-s3',\n",
              " 'source-salesforce',\n",
              " 'source-salesloft',\n",
              " 'source-sap-fieldglass',\n",
              " 'source-secoda',\n",
              " 'source-sendgrid',\n",
              " 'source-sendinblue',\n",
              " 'source-senseforce',\n",
              " 'source-sentry',\n",
              " 'source-serpstat',\n",
              " 'source-sftp-bulk',\n",
              " 'source-shopify',\n",
              " 'source-shortio',\n",
              " 'source-slack',\n",
              " 'source-smaily',\n",
              " 'source-smartengage',\n",
              " 'source-smartsheets',\n",
              " 'source-snapchat-marketing',\n",
              " 'source-sonar-cloud',\n",
              " 'source-spacex-api',\n",
              " 'source-square',\n",
              " 'source-statuspage',\n",
              " 'source-strava',\n",
              " 'source-stripe',\n",
              " 'source-survey-sparrow',\n",
              " 'source-surveycto',\n",
              " 'source-surveymonkey',\n",
              " 'source-tempo',\n",
              " 'source-the-guardian-api',\n",
              " 'source-tiktok-marketing',\n",
              " 'source-timely',\n",
              " 'source-tmdb',\n",
              " 'source-todoist',\n",
              " 'source-toggl',\n",
              " 'source-tplcentral',\n",
              " 'source-trello',\n",
              " 'source-trustpilot',\n",
              " 'source-tvmaze-schedule',\n",
              " 'source-twilio',\n",
              " 'source-twilio-taskrouter',\n",
              " 'source-twitter',\n",
              " 'source-tyntec-sms',\n",
              " 'source-typeform',\n",
              " 'source-us-census',\n",
              " 'source-vantage',\n",
              " 'source-visma-economic',\n",
              " 'source-vitally',\n",
              " 'source-waiteraid',\n",
              " 'source-weatherstack',\n",
              " 'source-webflow',\n",
              " 'source-whisky-hunter',\n",
              " 'source-wikipedia-pageviews',\n",
              " 'source-woocommerce',\n",
              " 'source-workable',\n",
              " 'source-workramp',\n",
              " 'source-wrike',\n",
              " 'source-xero',\n",
              " 'source-xkcd',\n",
              " 'source-yahoo-finance-price',\n",
              " 'source-yandex-metrica',\n",
              " 'source-yotpo',\n",
              " 'source-younium',\n",
              " 'source-youtube-analytics',\n",
              " 'source-zapier-supported-storage',\n",
              " 'source-zendesk-chat',\n",
              " 'source-zendesk-sunshine',\n",
              " 'source-zendesk-support',\n",
              " 'source-zendesk-talk',\n",
              " 'source-zenefits',\n",
              " 'source-zenloop',\n",
              " 'source-zoho-crm',\n",
              " 'source-zoom']"
            ]
          },
          "metadata": {},
          "execution_count": 3
        }
      ],
      "source": [
        "# Import PyAirbyte\n",
        "import airbyte as ab\n",
        "\n",
        "# Show all available connectors\n",
        "ab.get_available_connectors()"
      ]
    },
    {
      "cell_type": "markdown",
      "metadata": {
        "id": "Mm9A_oE3zq22"
      },
      "source": [
        "### Loading the Source Data using PyAirbyte"
      ]
    },
    {
      "cell_type": "code",
      "execution_count": 4,
      "metadata": {
        "colab": {
          "base_uri": "https://localhost:8080/",
          "height": 147
        },
        "id": "pjjWBypQynGO",
        "outputId": "d6668d73-a915-48a2-eee8-0304c5815192"
      },
      "outputs": [
        {
          "output_type": "display_data",
          "data": {
            "text/plain": [
              "Installing \u001b[32m'source-github'\u001b[0m into virtual environment \u001b[32m'/content/.venv-source-github'\u001b[0m.\n",
              "Running \u001b[32m'pip install airbyte-source-github'\u001b[0m\u001b[33m...\u001b[0m\n",
              "\n"
            ],
            "text/html": [
              "<pre style=\"white-space:pre;overflow-x:auto;line-height:normal;font-family:Menlo,'DejaVu Sans Mono',consolas,'Courier New',monospace\">Installing <span style=\"color: #008000; text-decoration-color: #008000\">'source-github'</span> into virtual environment <span style=\"color: #008000; text-decoration-color: #008000\">'/content/.venv-source-github'</span>.\n",
              "Running <span style=\"color: #008000; text-decoration-color: #008000\">'pip install airbyte-source-github'</span><span style=\"color: #808000; text-decoration-color: #808000\">...</span>\n",
              "\n",
              "</pre>\n"
            ]
          },
          "metadata": {}
        },
        {
          "output_type": "display_data",
          "data": {
            "text/plain": [
              "Connector \u001b[32m'source-github'\u001b[0m installed successfully!\n",
              "For more information, see the source-github documentation:\n",
              "\u001b[4;94mhttps://docs.airbyte.com/integrations/sources/github#reference\u001b[0m\n",
              "\n"
            ],
            "text/html": [
              "<pre style=\"white-space:pre;overflow-x:auto;line-height:normal;font-family:Menlo,'DejaVu Sans Mono',consolas,'Courier New',monospace\">Connector <span style=\"color: #008000; text-decoration-color: #008000\">'source-github'</span> installed successfully!\n",
              "For more information, see the source-github documentation:\n",
              "<span style=\"color: #0000ff; text-decoration-color: #0000ff; text-decoration: underline\">https://docs.airbyte.com/integrations/sources/github#reference</span>\n",
              "\n",
              "</pre>\n"
            ]
          },
          "metadata": {}
        },
        {
          "output_type": "display_data",
          "data": {
            "text/plain": [
              "Connection check succeeded for `source-github`.\n"
            ],
            "text/html": [
              "<pre style=\"white-space:pre;overflow-x:auto;line-height:normal;font-family:Menlo,'DejaVu Sans Mono',consolas,'Courier New',monospace\">Connection check succeeded for `source-github`.\n",
              "</pre>\n"
            ]
          },
          "metadata": {}
        }
      ],
      "source": [
        "import airbyte as ab\n",
        "\n",
        "# Create and configure the source:\n",
        "source = ab.get_source(\n",
        "    \"source-github\",\n",
        "    install_if_missing=True,\n",
        "    config={\n",
        "        #\"repositories\": [\"airbytehq/quickstarts\"],\n",
        "        \"repositories\": [\"rilldata/rill\"],\n",
        "        \"credentials\": {\n",
        "            \"personal_access_token\": ab.get_secret(\"GITHUB_PERSONAL_ACCESS_TOKEN\"),\n",
        "        },\n",
        "    },\n",
        ")\n",
        "\n",
        "# Verify the config and creds by running `check`:\n",
        "source.check()"
      ]
    },
    {
      "cell_type": "code",
      "execution_count": 5,
      "metadata": {
        "colab": {
          "base_uri": "https://localhost:8080/"
        },
        "id": "IMS-rK0oGLZE",
        "outputId": "988f5564-f41b-4f6f-834b-9f83cf06971c"
      },
      "outputs": [
        {
          "output_type": "execute_result",
          "data": {
            "text/plain": [
              "['issue_timeline_events',\n",
              " 'assignees',\n",
              " 'branches',\n",
              " 'collaborators',\n",
              " 'comments',\n",
              " 'commit_comment_reactions',\n",
              " 'commit_comments',\n",
              " 'commits',\n",
              " 'contributor_activity',\n",
              " 'deployments',\n",
              " 'events',\n",
              " 'issue_comment_reactions',\n",
              " 'issue_events',\n",
              " 'issue_labels',\n",
              " 'issue_milestones',\n",
              " 'issue_reactions',\n",
              " 'issues',\n",
              " 'organizations',\n",
              " 'project_cards',\n",
              " 'project_columns',\n",
              " 'projects',\n",
              " 'pull_request_comment_reactions',\n",
              " 'pull_request_commits',\n",
              " 'pull_request_stats',\n",
              " 'projects_v2',\n",
              " 'pull_requests',\n",
              " 'releases',\n",
              " 'repositories',\n",
              " 'review_comments',\n",
              " 'reviews',\n",
              " 'stargazers',\n",
              " 'tags',\n",
              " 'teams',\n",
              " 'team_members',\n",
              " 'users',\n",
              " 'workflows',\n",
              " 'workflow_runs',\n",
              " 'workflow_jobs',\n",
              " 'team_memberships']"
            ]
          },
          "metadata": {},
          "execution_count": 5
        }
      ],
      "source": [
        "# List the available streams available for the Github source\n",
        "source.get_available_streams()"
      ]
    },
    {
      "cell_type": "code",
      "execution_count": 6,
      "metadata": {
        "colab": {
          "base_uri": "https://localhost:8080/",
          "height": 338
        },
        "id": "DgDqb7nDynK8",
        "outputId": "e30ad726-d680-4775-bb28-13406ec23790"
      },
      "outputs": [
        {
          "output_type": "display_data",
          "data": {
            "text/plain": [
              "<IPython.core.display.Markdown object>"
            ],
            "text/markdown": "## Read Progress\n\nStarted reading at 20:43:51.\n\nRead **10,761** records over **2min 59s** (60.1 records / second).\n\nWrote **10,761** records over 3 batches.\n\nFinished reading at 20:46:51.\n\nStarted finalizing streams at 20:46:51.\n\nFinalized **3** batches over 7 seconds.\n\nCompleted 3 out of 3 streams:\n\n  - issues\n  - pull_requests\n  - commits\n\n\nCompleted writing at 20:46:58. Total time elapsed: 3min 6s\n\n\n------------------------------------------------\n"
          },
          "metadata": {}
        },
        {
          "output_type": "display_data",
          "data": {
            "text/plain": [
              "Completed `source-github` read operation at \u001b[1;92m20:46:58\u001b[0m.\n"
            ],
            "text/html": [
              "<pre style=\"white-space:pre;overflow-x:auto;line-height:normal;font-family:Menlo,'DejaVu Sans Mono',consolas,'Courier New',monospace\">Completed `source-github` read operation at <span style=\"color: #00ff00; text-decoration-color: #00ff00; font-weight: bold\">20:46:58</span>.\n",
              "</pre>\n"
            ]
          },
          "metadata": {}
        }
      ],
      "source": [
        "# Select the streams we are interested in loading to cache\n",
        "source.set_streams([\"pull_requests\", \"issues\", \"commits\"])\n",
        "\n",
        "# Read into DuckDB local default cache\n",
        "cache = ab.get_default_cache()\n",
        "result = source.read(cache=cache)\n"
      ]
    },
    {
      "cell_type": "code",
      "execution_count": 7,
      "metadata": {
        "colab": {
          "base_uri": "https://localhost:8080/",
          "height": 210
        },
        "id": "CHAPTRJ7teoG",
        "outputId": "e1cfaff6-6218-451b-9630-79173fc1e7b4"
      },
      "outputs": [
        {
          "output_type": "display_data",
          "data": {
            "text/plain": [
              "<IPython.core.display.Markdown object>"
            ],
            "text/markdown": "## Read Progress\n\nStarted reading at 20:46:59.\n\nRead **0** records over **2 seconds** (0.0 records / second).\n\nFinished reading at 20:47:02.\n\nStarted finalizing streams at 20:47:02.\n\nFinalized **0** batches over 0 seconds.\n\n\n\n\n------------------------------------------------\n"
          },
          "metadata": {}
        },
        {
          "output_type": "display_data",
          "data": {
            "text/plain": [
              "Completed `source-github` read operation at \u001b[1;92m20:47:02\u001b[0m.\n"
            ],
            "text/html": [
              "<pre style=\"white-space:pre;overflow-x:auto;line-height:normal;font-family:Menlo,'DejaVu Sans Mono',consolas,'Courier New',monospace\">Completed `source-github` read operation at <span style=\"color: #00ff00; text-decoration-color: #00ff00; font-weight: bold\">20:47:02</span>.\n",
              "</pre>\n"
            ]
          },
          "metadata": {}
        }
      ],
      "source": [
        "result = source.read(cache=cache)"
      ]
    },
    {
      "cell_type": "markdown",
      "metadata": {
        "id": "xVInRySSwqr6"
      },
      "source": [
        "### Reading cached data to pandas"
      ]
    },
    {
      "cell_type": "code",
      "execution_count": 21,
      "metadata": {
        "id": "5IwsRXpTynNk"
      },
      "outputs": [],
      "source": [
        "# Read from the cache into a pandas Dataframe:\n",
        "pull_requests = cache[\"pull_requests\"].to_pandas()\n",
        "issues = cache[\"issues\"].to_pandas()\n",
        "commits = cache[\"commits\"].to_pandas()"
      ]
    },
    {
      "cell_type": "code",
      "execution_count": 9,
      "metadata": {
        "colab": {
          "base_uri": "https://localhost:8080/"
        },
        "id": "qJdty-iNww0M",
        "outputId": "c059cc37-0b2d-4717-a161-f802116e7c93"
      },
      "outputs": [
        {
          "output_type": "stream",
          "name": "stdout",
          "text": [
            "<class 'pandas.core.frame.DataFrame'>\n",
            "This DataFrame has 3181 pull_requests\n",
            "---------------------------------\n",
            "<class 'pandas.core.frame.DataFrame'>\n",
            "This DataFrame has 4653 issues\n"
          ]
        }
      ],
      "source": [
        "print(f'{type(pull_requests)}')\n",
        "print(f'This DataFrame has {pull_requests.shape[0]} pull_requests')\n",
        "print('---------------------------------')\n",
        "print(f'{type(issues)}')\n",
        "print(f'This DataFrame has {issues.shape[0]} issues')"
      ]
    },
    {
      "cell_type": "code",
      "execution_count": 10,
      "metadata": {
        "colab": {
          "base_uri": "https://localhost:8080/"
        },
        "id": "C0cQjWhKt0KN",
        "outputId": "5f93cb8c-5541-433c-a0de-851d422a7253"
      },
      "outputs": [
        {
          "output_type": "stream",
          "name": "stdout",
          "text": [
            "<class 'pandas.core.frame.DataFrame'>\n",
            "RangeIndex: 3181 entries, 0 to 3180\n",
            "Data columns (total 40 columns):\n",
            " #   Column                 Non-Null Count  Dtype         \n",
            "---  ------                 --------------  -----         \n",
            " 0   repository             3181 non-null   object        \n",
            " 1   url                    3181 non-null   object        \n",
            " 2   id                     3181 non-null   int64         \n",
            " 3   node_id                3181 non-null   object        \n",
            " 4   html_url               3181 non-null   object        \n",
            " 5   diff_url               3181 non-null   object        \n",
            " 6   patch_url              3181 non-null   object        \n",
            " 7   issue_url              3181 non-null   object        \n",
            " 8   commits_url            3181 non-null   object        \n",
            " 9   review_comments_url    3181 non-null   object        \n",
            " 10  review_comment_url     3181 non-null   object        \n",
            " 11  comments_url           3181 non-null   object        \n",
            " 12  statuses_url           3181 non-null   object        \n",
            " 13  number                 3181 non-null   int64         \n",
            " 14  state                  3181 non-null   object        \n",
            " 15  locked                 3181 non-null   bool          \n",
            " 16  title                  3181 non-null   object        \n",
            " 17  user                   3181 non-null   object        \n",
            " 18  body                   2320 non-null   object        \n",
            " 19  labels                 3181 non-null   object        \n",
            " 20  milestone              1 non-null      object        \n",
            " 21  active_lock_reason     0 non-null      object        \n",
            " 22  created_at             3181 non-null   datetime64[ns]\n",
            " 23  updated_at             3181 non-null   datetime64[ns]\n",
            " 24  closed_at              3157 non-null   datetime64[ns]\n",
            " 25  merged_at              2895 non-null   datetime64[ns]\n",
            " 26  merge_commit_sha       3164 non-null   object        \n",
            " 27  assignee               996 non-null    object        \n",
            " 28  assignees              3181 non-null   object        \n",
            " 29  requested_reviewers    3181 non-null   object        \n",
            " 30  requested_teams        3181 non-null   object        \n",
            " 31  head                   3181 non-null   object        \n",
            " 32  base                   3181 non-null   object        \n",
            " 33  _links                 3181 non-null   object        \n",
            " 34  author_association     3181 non-null   object        \n",
            " 35  auto_merge             0 non-null      object        \n",
            " 36  draft                  3181 non-null   bool          \n",
            " 37  _airbyte_raw_id        3181 non-null   object        \n",
            " 38  _airbyte_extracted_at  3181 non-null   datetime64[ns]\n",
            " 39  _airbyte_meta          3181 non-null   object        \n",
            "dtypes: bool(2), datetime64[ns](5), int64(2), object(31)\n",
            "memory usage: 950.7+ KB\n"
          ]
        }
      ],
      "source": [
        "pull_requests.info()"
      ]
    },
    {
      "cell_type": "code",
      "source": [
        "pull_requests.head()"
      ],
      "metadata": {
        "colab": {
          "base_uri": "https://localhost:8080/",
          "height": 343
        },
        "id": "RrEoJmLDeSrx",
        "outputId": "25b434bd-2328-49c8-ae57-f241b7ded6b6"
      },
      "execution_count": 11,
      "outputs": [
        {
          "output_type": "execute_result",
          "data": {
            "text/plain": [
              "      repository                                                url  \\\n",
              "0  rilldata/rill  https://api.github.com/repos/rilldata/rill/pul...   \n",
              "1  rilldata/rill  https://api.github.com/repos/rilldata/rill/pul...   \n",
              "2  rilldata/rill  https://api.github.com/repos/rilldata/rill/pul...   \n",
              "3  rilldata/rill  https://api.github.com/repos/rilldata/rill/pul...   \n",
              "4  rilldata/rill  https://api.github.com/repos/rilldata/rill/pul...   \n",
              "\n",
              "          id              node_id                                  html_url  \\\n",
              "0  838504199  PR_kwDOGgPzWM4x-o8H  https://github.com/rilldata/rill/pull/57   \n",
              "1  839847411  PR_kwDOGgPzWM4yDw3z  https://github.com/rilldata/rill/pull/58   \n",
              "2  840195422  PR_kwDOGgPzWM4yFF1e  https://github.com/rilldata/rill/pull/59   \n",
              "3  843953832  PR_kwDOGgPzWM4yTbao  https://github.com/rilldata/rill/pull/60   \n",
              "4  853401877  PR_kwDOGgPzWM4y3eEV  https://github.com/rilldata/rill/pull/63   \n",
              "\n",
              "                                        diff_url  \\\n",
              "0  https://github.com/rilldata/rill/pull/57.diff   \n",
              "1  https://github.com/rilldata/rill/pull/58.diff   \n",
              "2  https://github.com/rilldata/rill/pull/59.diff   \n",
              "3  https://github.com/rilldata/rill/pull/60.diff   \n",
              "4  https://github.com/rilldata/rill/pull/63.diff   \n",
              "\n",
              "                                        patch_url  \\\n",
              "0  https://github.com/rilldata/rill/pull/57.patch   \n",
              "1  https://github.com/rilldata/rill/pull/58.patch   \n",
              "2  https://github.com/rilldata/rill/pull/59.patch   \n",
              "3  https://github.com/rilldata/rill/pull/60.patch   \n",
              "4  https://github.com/rilldata/rill/pull/63.patch   \n",
              "\n",
              "                                           issue_url  \\\n",
              "0  https://api.github.com/repos/rilldata/rill/iss...   \n",
              "1  https://api.github.com/repos/rilldata/rill/iss...   \n",
              "2  https://api.github.com/repos/rilldata/rill/iss...   \n",
              "3  https://api.github.com/repos/rilldata/rill/iss...   \n",
              "4  https://api.github.com/repos/rilldata/rill/iss...   \n",
              "\n",
              "                                         commits_url  \\\n",
              "0  https://api.github.com/repos/rilldata/rill/pul...   \n",
              "1  https://api.github.com/repos/rilldata/rill/pul...   \n",
              "2  https://api.github.com/repos/rilldata/rill/pul...   \n",
              "3  https://api.github.com/repos/rilldata/rill/pul...   \n",
              "4  https://api.github.com/repos/rilldata/rill/pul...   \n",
              "\n",
              "                                 review_comments_url  ... requested_teams  \\\n",
              "0  https://api.github.com/repos/rilldata/rill/pul...  ...              []   \n",
              "1  https://api.github.com/repos/rilldata/rill/pul...  ...              []   \n",
              "2  https://api.github.com/repos/rilldata/rill/pul...  ...              []   \n",
              "3  https://api.github.com/repos/rilldata/rill/pul...  ...              []   \n",
              "4  https://api.github.com/repos/rilldata/rill/pul...  ...              []   \n",
              "\n",
              "                                                head  \\\n",
              "0  {\"label\":\"rilldata:query-prepare\",\"ref\":\"query...   \n",
              "1  {\"label\":\"rilldata:dataset-preview-tweaks\",\"re...   \n",
              "2  {\"label\":\"rilldata:state-seperation\",\"ref\":\"st...   \n",
              "3  {\"label\":\"rilldata:new-api-integration\",\"ref\":...   \n",
              "4  {\"label\":\"rilldata:dataset-to-table\",\"ref\":\"da...   \n",
              "\n",
              "                                                base  \\\n",
              "0  {\"label\":\"rilldata:main\",\"ref\":\"main\",\"sha\":\"8...   \n",
              "1  {\"label\":\"rilldata:main\",\"ref\":\"main\",\"sha\":\"0...   \n",
              "2  {\"label\":\"rilldata:main\",\"ref\":\"main\",\"sha\":\"5...   \n",
              "3  {\"label\":\"rilldata:main\",\"ref\":\"main\",\"sha\":\"f...   \n",
              "4  {\"label\":\"rilldata:main\",\"ref\":\"main\",\"sha\":\"e...   \n",
              "\n",
              "                                              _links author_association  \\\n",
              "0  {\"self\":{\"href\":\"https://api.github.com/repos/...       COLLABORATOR   \n",
              "1  {\"self\":{\"href\":\"https://api.github.com/repos/...        CONTRIBUTOR   \n",
              "2  {\"self\":{\"href\":\"https://api.github.com/repos/...       COLLABORATOR   \n",
              "3  {\"self\":{\"href\":\"https://api.github.com/repos/...       COLLABORATOR   \n",
              "4  {\"self\":{\"href\":\"https://api.github.com/repos/...       COLLABORATOR   \n",
              "\n",
              "   auto_merge  draft             _airbyte_raw_id   _airbyte_extracted_at  \\\n",
              "0        None  False  01HW16GEN05PDAB2PMBRTK47B8 2024-04-21 20:45:36.281   \n",
              "1        None  False  01HW16GEN3NRR19V8FSV56SQKK 2024-04-21 20:45:36.284   \n",
              "2        None  False  01HW16GEN6P22F98N1D962DZBS 2024-04-21 20:45:36.292   \n",
              "3        None  False  01HW16GEN726MQCS1W68TEAGXJ 2024-04-21 20:45:36.293   \n",
              "4        None  False  01HW16GEN8PCT8KN2CQ4EKKMCH 2024-04-21 20:45:36.295   \n",
              "\n",
              "  _airbyte_meta  \n",
              "0            {}  \n",
              "1            {}  \n",
              "2            {}  \n",
              "3            {}  \n",
              "4            {}  \n",
              "\n",
              "[5 rows x 40 columns]"
            ],
            "text/html": [
              "\n",
              "  <div id=\"df-b700462f-52c5-48d0-a115-8cfb7d7d2291\" class=\"colab-df-container\">\n",
              "    <div>\n",
              "<style scoped>\n",
              "    .dataframe tbody tr th:only-of-type {\n",
              "        vertical-align: middle;\n",
              "    }\n",
              "\n",
              "    .dataframe tbody tr th {\n",
              "        vertical-align: top;\n",
              "    }\n",
              "\n",
              "    .dataframe thead th {\n",
              "        text-align: right;\n",
              "    }\n",
              "</style>\n",
              "<table border=\"1\" class=\"dataframe\">\n",
              "  <thead>\n",
              "    <tr style=\"text-align: right;\">\n",
              "      <th></th>\n",
              "      <th>repository</th>\n",
              "      <th>url</th>\n",
              "      <th>id</th>\n",
              "      <th>node_id</th>\n",
              "      <th>html_url</th>\n",
              "      <th>diff_url</th>\n",
              "      <th>patch_url</th>\n",
              "      <th>issue_url</th>\n",
              "      <th>commits_url</th>\n",
              "      <th>review_comments_url</th>\n",
              "      <th>...</th>\n",
              "      <th>requested_teams</th>\n",
              "      <th>head</th>\n",
              "      <th>base</th>\n",
              "      <th>_links</th>\n",
              "      <th>author_association</th>\n",
              "      <th>auto_merge</th>\n",
              "      <th>draft</th>\n",
              "      <th>_airbyte_raw_id</th>\n",
              "      <th>_airbyte_extracted_at</th>\n",
              "      <th>_airbyte_meta</th>\n",
              "    </tr>\n",
              "  </thead>\n",
              "  <tbody>\n",
              "    <tr>\n",
              "      <th>0</th>\n",
              "      <td>rilldata/rill</td>\n",
              "      <td>https://api.github.com/repos/rilldata/rill/pul...</td>\n",
              "      <td>838504199</td>\n",
              "      <td>PR_kwDOGgPzWM4x-o8H</td>\n",
              "      <td>https://github.com/rilldata/rill/pull/57</td>\n",
              "      <td>https://github.com/rilldata/rill/pull/57.diff</td>\n",
              "      <td>https://github.com/rilldata/rill/pull/57.patch</td>\n",
              "      <td>https://api.github.com/repos/rilldata/rill/iss...</td>\n",
              "      <td>https://api.github.com/repos/rilldata/rill/pul...</td>\n",
              "      <td>https://api.github.com/repos/rilldata/rill/pul...</td>\n",
              "      <td>...</td>\n",
              "      <td>[]</td>\n",
              "      <td>{\"label\":\"rilldata:query-prepare\",\"ref\":\"query...</td>\n",
              "      <td>{\"label\":\"rilldata:main\",\"ref\":\"main\",\"sha\":\"8...</td>\n",
              "      <td>{\"self\":{\"href\":\"https://api.github.com/repos/...</td>\n",
              "      <td>COLLABORATOR</td>\n",
              "      <td>None</td>\n",
              "      <td>False</td>\n",
              "      <td>01HW16GEN05PDAB2PMBRTK47B8</td>\n",
              "      <td>2024-04-21 20:45:36.281</td>\n",
              "      <td>{}</td>\n",
              "    </tr>\n",
              "    <tr>\n",
              "      <th>1</th>\n",
              "      <td>rilldata/rill</td>\n",
              "      <td>https://api.github.com/repos/rilldata/rill/pul...</td>\n",
              "      <td>839847411</td>\n",
              "      <td>PR_kwDOGgPzWM4yDw3z</td>\n",
              "      <td>https://github.com/rilldata/rill/pull/58</td>\n",
              "      <td>https://github.com/rilldata/rill/pull/58.diff</td>\n",
              "      <td>https://github.com/rilldata/rill/pull/58.patch</td>\n",
              "      <td>https://api.github.com/repos/rilldata/rill/iss...</td>\n",
              "      <td>https://api.github.com/repos/rilldata/rill/pul...</td>\n",
              "      <td>https://api.github.com/repos/rilldata/rill/pul...</td>\n",
              "      <td>...</td>\n",
              "      <td>[]</td>\n",
              "      <td>{\"label\":\"rilldata:dataset-preview-tweaks\",\"re...</td>\n",
              "      <td>{\"label\":\"rilldata:main\",\"ref\":\"main\",\"sha\":\"0...</td>\n",
              "      <td>{\"self\":{\"href\":\"https://api.github.com/repos/...</td>\n",
              "      <td>CONTRIBUTOR</td>\n",
              "      <td>None</td>\n",
              "      <td>False</td>\n",
              "      <td>01HW16GEN3NRR19V8FSV56SQKK</td>\n",
              "      <td>2024-04-21 20:45:36.284</td>\n",
              "      <td>{}</td>\n",
              "    </tr>\n",
              "    <tr>\n",
              "      <th>2</th>\n",
              "      <td>rilldata/rill</td>\n",
              "      <td>https://api.github.com/repos/rilldata/rill/pul...</td>\n",
              "      <td>840195422</td>\n",
              "      <td>PR_kwDOGgPzWM4yFF1e</td>\n",
              "      <td>https://github.com/rilldata/rill/pull/59</td>\n",
              "      <td>https://github.com/rilldata/rill/pull/59.diff</td>\n",
              "      <td>https://github.com/rilldata/rill/pull/59.patch</td>\n",
              "      <td>https://api.github.com/repos/rilldata/rill/iss...</td>\n",
              "      <td>https://api.github.com/repos/rilldata/rill/pul...</td>\n",
              "      <td>https://api.github.com/repos/rilldata/rill/pul...</td>\n",
              "      <td>...</td>\n",
              "      <td>[]</td>\n",
              "      <td>{\"label\":\"rilldata:state-seperation\",\"ref\":\"st...</td>\n",
              "      <td>{\"label\":\"rilldata:main\",\"ref\":\"main\",\"sha\":\"5...</td>\n",
              "      <td>{\"self\":{\"href\":\"https://api.github.com/repos/...</td>\n",
              "      <td>COLLABORATOR</td>\n",
              "      <td>None</td>\n",
              "      <td>False</td>\n",
              "      <td>01HW16GEN6P22F98N1D962DZBS</td>\n",
              "      <td>2024-04-21 20:45:36.292</td>\n",
              "      <td>{}</td>\n",
              "    </tr>\n",
              "    <tr>\n",
              "      <th>3</th>\n",
              "      <td>rilldata/rill</td>\n",
              "      <td>https://api.github.com/repos/rilldata/rill/pul...</td>\n",
              "      <td>843953832</td>\n",
              "      <td>PR_kwDOGgPzWM4yTbao</td>\n",
              "      <td>https://github.com/rilldata/rill/pull/60</td>\n",
              "      <td>https://github.com/rilldata/rill/pull/60.diff</td>\n",
              "      <td>https://github.com/rilldata/rill/pull/60.patch</td>\n",
              "      <td>https://api.github.com/repos/rilldata/rill/iss...</td>\n",
              "      <td>https://api.github.com/repos/rilldata/rill/pul...</td>\n",
              "      <td>https://api.github.com/repos/rilldata/rill/pul...</td>\n",
              "      <td>...</td>\n",
              "      <td>[]</td>\n",
              "      <td>{\"label\":\"rilldata:new-api-integration\",\"ref\":...</td>\n",
              "      <td>{\"label\":\"rilldata:main\",\"ref\":\"main\",\"sha\":\"f...</td>\n",
              "      <td>{\"self\":{\"href\":\"https://api.github.com/repos/...</td>\n",
              "      <td>COLLABORATOR</td>\n",
              "      <td>None</td>\n",
              "      <td>False</td>\n",
              "      <td>01HW16GEN726MQCS1W68TEAGXJ</td>\n",
              "      <td>2024-04-21 20:45:36.293</td>\n",
              "      <td>{}</td>\n",
              "    </tr>\n",
              "    <tr>\n",
              "      <th>4</th>\n",
              "      <td>rilldata/rill</td>\n",
              "      <td>https://api.github.com/repos/rilldata/rill/pul...</td>\n",
              "      <td>853401877</td>\n",
              "      <td>PR_kwDOGgPzWM4y3eEV</td>\n",
              "      <td>https://github.com/rilldata/rill/pull/63</td>\n",
              "      <td>https://github.com/rilldata/rill/pull/63.diff</td>\n",
              "      <td>https://github.com/rilldata/rill/pull/63.patch</td>\n",
              "      <td>https://api.github.com/repos/rilldata/rill/iss...</td>\n",
              "      <td>https://api.github.com/repos/rilldata/rill/pul...</td>\n",
              "      <td>https://api.github.com/repos/rilldata/rill/pul...</td>\n",
              "      <td>...</td>\n",
              "      <td>[]</td>\n",
              "      <td>{\"label\":\"rilldata:dataset-to-table\",\"ref\":\"da...</td>\n",
              "      <td>{\"label\":\"rilldata:main\",\"ref\":\"main\",\"sha\":\"e...</td>\n",
              "      <td>{\"self\":{\"href\":\"https://api.github.com/repos/...</td>\n",
              "      <td>COLLABORATOR</td>\n",
              "      <td>None</td>\n",
              "      <td>False</td>\n",
              "      <td>01HW16GEN8PCT8KN2CQ4EKKMCH</td>\n",
              "      <td>2024-04-21 20:45:36.295</td>\n",
              "      <td>{}</td>\n",
              "    </tr>\n",
              "  </tbody>\n",
              "</table>\n",
              "<p>5 rows × 40 columns</p>\n",
              "</div>\n",
              "    <div class=\"colab-df-buttons\">\n",
              "\n",
              "  <div class=\"colab-df-container\">\n",
              "    <button class=\"colab-df-convert\" onclick=\"convertToInteractive('df-b700462f-52c5-48d0-a115-8cfb7d7d2291')\"\n",
              "            title=\"Convert this dataframe to an interactive table.\"\n",
              "            style=\"display:none;\">\n",
              "\n",
              "  <svg xmlns=\"http://www.w3.org/2000/svg\" height=\"24px\" viewBox=\"0 -960 960 960\">\n",
              "    <path d=\"M120-120v-720h720v720H120Zm60-500h600v-160H180v160Zm220 220h160v-160H400v160Zm0 220h160v-160H400v160ZM180-400h160v-160H180v160Zm440 0h160v-160H620v160ZM180-180h160v-160H180v160Zm440 0h160v-160H620v160Z\"/>\n",
              "  </svg>\n",
              "    </button>\n",
              "\n",
              "  <style>\n",
              "    .colab-df-container {\n",
              "      display:flex;\n",
              "      gap: 12px;\n",
              "    }\n",
              "\n",
              "    .colab-df-convert {\n",
              "      background-color: #E8F0FE;\n",
              "      border: none;\n",
              "      border-radius: 50%;\n",
              "      cursor: pointer;\n",
              "      display: none;\n",
              "      fill: #1967D2;\n",
              "      height: 32px;\n",
              "      padding: 0 0 0 0;\n",
              "      width: 32px;\n",
              "    }\n",
              "\n",
              "    .colab-df-convert:hover {\n",
              "      background-color: #E2EBFA;\n",
              "      box-shadow: 0px 1px 2px rgba(60, 64, 67, 0.3), 0px 1px 3px 1px rgba(60, 64, 67, 0.15);\n",
              "      fill: #174EA6;\n",
              "    }\n",
              "\n",
              "    .colab-df-buttons div {\n",
              "      margin-bottom: 4px;\n",
              "    }\n",
              "\n",
              "    [theme=dark] .colab-df-convert {\n",
              "      background-color: #3B4455;\n",
              "      fill: #D2E3FC;\n",
              "    }\n",
              "\n",
              "    [theme=dark] .colab-df-convert:hover {\n",
              "      background-color: #434B5C;\n",
              "      box-shadow: 0px 1px 3px 1px rgba(0, 0, 0, 0.15);\n",
              "      filter: drop-shadow(0px 1px 2px rgba(0, 0, 0, 0.3));\n",
              "      fill: #FFFFFF;\n",
              "    }\n",
              "  </style>\n",
              "\n",
              "    <script>\n",
              "      const buttonEl =\n",
              "        document.querySelector('#df-b700462f-52c5-48d0-a115-8cfb7d7d2291 button.colab-df-convert');\n",
              "      buttonEl.style.display =\n",
              "        google.colab.kernel.accessAllowed ? 'block' : 'none';\n",
              "\n",
              "      async function convertToInteractive(key) {\n",
              "        const element = document.querySelector('#df-b700462f-52c5-48d0-a115-8cfb7d7d2291');\n",
              "        const dataTable =\n",
              "          await google.colab.kernel.invokeFunction('convertToInteractive',\n",
              "                                                    [key], {});\n",
              "        if (!dataTable) return;\n",
              "\n",
              "        const docLinkHtml = 'Like what you see? Visit the ' +\n",
              "          '<a target=\"_blank\" href=https://colab.research.google.com/notebooks/data_table.ipynb>data table notebook</a>'\n",
              "          + ' to learn more about interactive tables.';\n",
              "        element.innerHTML = '';\n",
              "        dataTable['output_type'] = 'display_data';\n",
              "        await google.colab.output.renderOutput(dataTable, element);\n",
              "        const docLink = document.createElement('div');\n",
              "        docLink.innerHTML = docLinkHtml;\n",
              "        element.appendChild(docLink);\n",
              "      }\n",
              "    </script>\n",
              "  </div>\n",
              "\n",
              "\n",
              "<div id=\"df-1a1864cb-6374-488d-94bb-2b29ca005824\">\n",
              "  <button class=\"colab-df-quickchart\" onclick=\"quickchart('df-1a1864cb-6374-488d-94bb-2b29ca005824')\"\n",
              "            title=\"Suggest charts\"\n",
              "            style=\"display:none;\">\n",
              "\n",
              "<svg xmlns=\"http://www.w3.org/2000/svg\" height=\"24px\"viewBox=\"0 0 24 24\"\n",
              "     width=\"24px\">\n",
              "    <g>\n",
              "        <path d=\"M19 3H5c-1.1 0-2 .9-2 2v14c0 1.1.9 2 2 2h14c1.1 0 2-.9 2-2V5c0-1.1-.9-2-2-2zM9 17H7v-7h2v7zm4 0h-2V7h2v10zm4 0h-2v-4h2v4z\"/>\n",
              "    </g>\n",
              "</svg>\n",
              "  </button>\n",
              "\n",
              "<style>\n",
              "  .colab-df-quickchart {\n",
              "      --bg-color: #E8F0FE;\n",
              "      --fill-color: #1967D2;\n",
              "      --hover-bg-color: #E2EBFA;\n",
              "      --hover-fill-color: #174EA6;\n",
              "      --disabled-fill-color: #AAA;\n",
              "      --disabled-bg-color: #DDD;\n",
              "  }\n",
              "\n",
              "  [theme=dark] .colab-df-quickchart {\n",
              "      --bg-color: #3B4455;\n",
              "      --fill-color: #D2E3FC;\n",
              "      --hover-bg-color: #434B5C;\n",
              "      --hover-fill-color: #FFFFFF;\n",
              "      --disabled-bg-color: #3B4455;\n",
              "      --disabled-fill-color: #666;\n",
              "  }\n",
              "\n",
              "  .colab-df-quickchart {\n",
              "    background-color: var(--bg-color);\n",
              "    border: none;\n",
              "    border-radius: 50%;\n",
              "    cursor: pointer;\n",
              "    display: none;\n",
              "    fill: var(--fill-color);\n",
              "    height: 32px;\n",
              "    padding: 0;\n",
              "    width: 32px;\n",
              "  }\n",
              "\n",
              "  .colab-df-quickchart:hover {\n",
              "    background-color: var(--hover-bg-color);\n",
              "    box-shadow: 0 1px 2px rgba(60, 64, 67, 0.3), 0 1px 3px 1px rgba(60, 64, 67, 0.15);\n",
              "    fill: var(--button-hover-fill-color);\n",
              "  }\n",
              "\n",
              "  .colab-df-quickchart-complete:disabled,\n",
              "  .colab-df-quickchart-complete:disabled:hover {\n",
              "    background-color: var(--disabled-bg-color);\n",
              "    fill: var(--disabled-fill-color);\n",
              "    box-shadow: none;\n",
              "  }\n",
              "\n",
              "  .colab-df-spinner {\n",
              "    border: 2px solid var(--fill-color);\n",
              "    border-color: transparent;\n",
              "    border-bottom-color: var(--fill-color);\n",
              "    animation:\n",
              "      spin 1s steps(1) infinite;\n",
              "  }\n",
              "\n",
              "  @keyframes spin {\n",
              "    0% {\n",
              "      border-color: transparent;\n",
              "      border-bottom-color: var(--fill-color);\n",
              "      border-left-color: var(--fill-color);\n",
              "    }\n",
              "    20% {\n",
              "      border-color: transparent;\n",
              "      border-left-color: var(--fill-color);\n",
              "      border-top-color: var(--fill-color);\n",
              "    }\n",
              "    30% {\n",
              "      border-color: transparent;\n",
              "      border-left-color: var(--fill-color);\n",
              "      border-top-color: var(--fill-color);\n",
              "      border-right-color: var(--fill-color);\n",
              "    }\n",
              "    40% {\n",
              "      border-color: transparent;\n",
              "      border-right-color: var(--fill-color);\n",
              "      border-top-color: var(--fill-color);\n",
              "    }\n",
              "    60% {\n",
              "      border-color: transparent;\n",
              "      border-right-color: var(--fill-color);\n",
              "    }\n",
              "    80% {\n",
              "      border-color: transparent;\n",
              "      border-right-color: var(--fill-color);\n",
              "      border-bottom-color: var(--fill-color);\n",
              "    }\n",
              "    90% {\n",
              "      border-color: transparent;\n",
              "      border-bottom-color: var(--fill-color);\n",
              "    }\n",
              "  }\n",
              "</style>\n",
              "\n",
              "  <script>\n",
              "    async function quickchart(key) {\n",
              "      const quickchartButtonEl =\n",
              "        document.querySelector('#' + key + ' button');\n",
              "      quickchartButtonEl.disabled = true;  // To prevent multiple clicks.\n",
              "      quickchartButtonEl.classList.add('colab-df-spinner');\n",
              "      try {\n",
              "        const charts = await google.colab.kernel.invokeFunction(\n",
              "            'suggestCharts', [key], {});\n",
              "      } catch (error) {\n",
              "        console.error('Error during call to suggestCharts:', error);\n",
              "      }\n",
              "      quickchartButtonEl.classList.remove('colab-df-spinner');\n",
              "      quickchartButtonEl.classList.add('colab-df-quickchart-complete');\n",
              "    }\n",
              "    (() => {\n",
              "      let quickchartButtonEl =\n",
              "        document.querySelector('#df-1a1864cb-6374-488d-94bb-2b29ca005824 button');\n",
              "      quickchartButtonEl.style.display =\n",
              "        google.colab.kernel.accessAllowed ? 'block' : 'none';\n",
              "    })();\n",
              "  </script>\n",
              "</div>\n",
              "\n",
              "    </div>\n",
              "  </div>\n"
            ],
            "application/vnd.google.colaboratory.intrinsic+json": {
              "type": "dataframe",
              "variable_name": "pull_requests"
            }
          },
          "metadata": {},
          "execution_count": 11
        }
      ]
    },
    {
      "cell_type": "code",
      "source": [
        "commits.info()"
      ],
      "metadata": {
        "colab": {
          "base_uri": "https://localhost:8080/"
        },
        "id": "RZ2Hptbfgepk",
        "outputId": "375874f7-facd-4296-fb30-2a2672965cec"
      },
      "execution_count": 22,
      "outputs": [
        {
          "output_type": "stream",
          "name": "stdout",
          "text": [
            "<class 'pandas.core.frame.DataFrame'>\n",
            "RangeIndex: 2927 entries, 0 to 2926\n",
            "Data columns (total 15 columns):\n",
            " #   Column                 Non-Null Count  Dtype         \n",
            "---  ------                 --------------  -----         \n",
            " 0   repository             2927 non-null   object        \n",
            " 1   branch                 2927 non-null   object        \n",
            " 2   created_at             2927 non-null   datetime64[ns]\n",
            " 3   url                    2927 non-null   object        \n",
            " 4   sha                    2927 non-null   object        \n",
            " 5   node_id                2927 non-null   object        \n",
            " 6   html_url               2927 non-null   object        \n",
            " 7   comments_url           2927 non-null   object        \n",
            " 8   commit                 2927 non-null   object        \n",
            " 9   author                 2921 non-null   object        \n",
            " 10  committer              2926 non-null   object        \n",
            " 11  parents                2927 non-null   object        \n",
            " 12  _airbyte_raw_id        2927 non-null   object        \n",
            " 13  _airbyte_extracted_at  2927 non-null   datetime64[ns]\n",
            " 14  _airbyte_meta          2927 non-null   object        \n",
            "dtypes: datetime64[ns](2), object(13)\n",
            "memory usage: 343.1+ KB\n"
          ]
        }
      ]
    },
    {
      "cell_type": "markdown",
      "source": [
        "### Analyzing Pull Requests"
      ],
      "metadata": {
        "id": "Pnyub19BesS6"
      }
    },
    {
      "cell_type": "code",
      "source": [
        "import pandas as pd\n",
        "import matplotlib.pyplot as plt\n",
        "\n",
        "pr_trend = pull_requests.resample(\"Q\", on=\"created_at\").size()\n",
        "\n",
        "plt.figure(figsize=(12, 6))\n",
        "pr_trend.plot(kind=\"line\", color=\"red\", marker=\"o\")\n",
        "plt.title(\"Quarterly Pull Requests Trend since 2022\")\n",
        "plt.xlabel(\"Quarter\")\n",
        "plt.ylabel(\"Number of Pull Requests\")\n",
        "plt.grid(True)\n",
        "plt.show()"
      ],
      "metadata": {
        "colab": {
          "base_uri": "https://localhost:8080/",
          "height": 580
        },
        "id": "9OZLM_AJeUz_",
        "outputId": "0151edf7-559d-4140-843f-beb93705e937"
      },
      "execution_count": 13,
      "outputs": [
        {
          "output_type": "display_data",
          "data": {
            "text/plain": [
              "<Figure size 1200x600 with 1 Axes>"
            ],
            "image/png": "[encoded data removed]"
          },
          "metadata": {}
        }
      ]
    },
    {
      "cell_type": "markdown",
      "source": [
        "### Working with SQL"
      ],
      "metadata": {
        "id": "yK0-COMmfORc"
      }
    },
    {
      "cell_type": "code",
      "source": [
        "# Install JupySQL to enable SQL cell magics\n",
        "%pip install --quiet jupysql\n",
        "# Load JupySQL extension\n",
        "%load_ext sql\n",
        "# Configure max row limit (optional)\n",
        "%config SqlMagic.displaylimit = 200"
      ],
      "metadata": {
        "colab": {
          "base_uri": "https://localhost:8080/"
        },
        "id": "hY9-m4I5fGUl",
        "outputId": "adc26be8-f996-4cd3-f3bf-ddd9f595842c"
      },
      "execution_count": 14,
      "outputs": [
        {
          "output_type": "stream",
          "name": "stdout",
          "text": [
            "\u001b[?25l     \u001b[90m━━━━━━━━━━━━━━━━━━━━━━━━━━━━━━━━━━━━━━━━\u001b[0m \u001b[32m0.0/95.7 kB\u001b[0m \u001b[31m?\u001b[0m eta \u001b[36m-:--:--\u001b[0m\r\u001b[2K     \u001b[91m━━━━━━━━━━━━━━━━━━━━━━━━━━━━━━━━━━━━━━\u001b[0m\u001b[91m╸\u001b[0m\u001b[90m━\u001b[0m \u001b[32m92.2/95.7 kB\u001b[0m \u001b[31m3.3 MB/s\u001b[0m eta \u001b[36m0:00:01\u001b[0m\r\u001b[2K     \u001b[90m━━━━━━━━━━━━━━━━━━━━━━━━━━━━━━━━━━━━━━━━\u001b[0m \u001b[32m95.7/95.7 kB\u001b[0m \u001b[31m2.4 MB/s\u001b[0m eta \u001b[36m0:00:00\u001b[0m\n",
            "\u001b[2K     \u001b[90m━━━━━━━━━━━━━━━━━━━━━━━━━━━━━━━━━━━━━━━━\u001b[0m \u001b[32m251.0/251.0 kB\u001b[0m \u001b[31m12.2 MB/s\u001b[0m eta \u001b[36m0:00:00\u001b[0m\n",
            "\u001b[2K     \u001b[90m━━━━━━━━━━━━━━━━━━━━━━━━━━━━━━━━━━━━━━━━\u001b[0m \u001b[32m193.0/193.0 kB\u001b[0m \u001b[31m20.5 MB/s\u001b[0m eta \u001b[36m0:00:00\u001b[0m\n",
            "\u001b[2K     \u001b[90m━━━━━━━━━━━━━━━━━━━━━━━━━━━━━━━━━━━━━━━━\u001b[0m \u001b[32m41.3/41.3 kB\u001b[0m \u001b[31m3.7 MB/s\u001b[0m eta \u001b[36m0:00:00\u001b[0m\n",
            "\u001b[?25hDeploy Shiny apps for free on Ploomber Cloud! Learn more: https://ploomber.io/s/signup\n"
          ]
        }
      ]
    },
    {
      "cell_type": "code",
      "source": [
        "# Get the SQLAlchemy 'engine' object for the cache\n",
        "engine = result.cache.get_sql_engine()\n",
        "# Pass the engine to JupySQL\n",
        "%sql engine"
      ],
      "metadata": {
        "id": "wqnz00xOfsk4"
      },
      "execution_count": 16,
      "outputs": []
    },
    {
      "cell_type": "code",
      "source": [
        "# Get table objects for the 'commits' stream\n",
        "commits = result.cache[\"commits\"].to_sql_table()\n",
        "commits"
      ],
      "metadata": {
        "colab": {
          "base_uri": "https://localhost:8080/"
        },
        "id": "q5agD70TfsiT",
        "outputId": "e632bb10-108c-4f22-c701-8d5482f9e22d"
      },
      "execution_count": 19,
      "outputs": [
        {
          "output_type": "execute_result",
          "data": {
            "text/plain": [
              "Table('commits', MetaData(), Column('repository', VARCHAR(), table=<commits>), Column('branch', VARCHAR(), table=<commits>), Column('created_at', TIMESTAMP(), table=<commits>), Column('url', VARCHAR(), table=<commits>), Column('sha', VARCHAR(), table=<commits>), Column('node_id', VARCHAR(), table=<commits>), Column('html_url', VARCHAR(), table=<commits>), Column('comments_url', VARCHAR(), table=<commits>), Column('commit', VARCHAR(), table=<commits>), Column('author', VARCHAR(), table=<commits>), Column('committer', VARCHAR(), table=<commits>), Column('parents', VARCHAR(), table=<commits>), Column('_airbyte_raw_id', VARCHAR(), table=<commits>), Column('_airbyte_extracted_at', TIMESTAMP(), table=<commits>), Column('_airbyte_meta', VARCHAR(), table=<commits>), schema='main')"
            ]
          },
          "metadata": {},
          "execution_count": 19
        }
      ]
    },
    {
      "cell_type": "code",
      "source": [
        "%%sql\n",
        "# Show data from commits table:\n",
        "SELECT commits.commit, commits..author, commits.created_at\n",
        "FROM {{ commits }} AS commits"
      ],
      "metadata": {
        "colab": {
          "base_uri": "https://localhost:8080/",
          "height": 1000
        },
        "id": "M91pNnRsfsgD",
        "outputId": "1149a6c4-b93f-40df-de55-4e349442a4e4"
      },
      "execution_count": 23,
      "outputs": [
        {
          "output_type": "display_data",
          "data": {
            "text/plain": [
              "Running query in 'duckdb:///.cache/default_cache/default_cache.duckdb'"
            ],
            "text/html": [
              "<span style=\"None\">Running query in &#x27;duckdb:///.cache/default_cache/default_cache.duckdb&#x27;</span>"
            ]
          },
          "metadata": {}
        },
        {
          "output_type": "stream",
          "name": "stderr",
          "text": [
            "RuntimeError: (sqlalchemy.exc.InvalidRequestError) A value is required for bind parameter '14206386'\n",
            "[SQL: SELECT commits.commit, commits..author, commits.created_at\n",
            "FROM          repository branch          created_at  \\\n",
            "0     rilldata/rill   main 2024-04-20 00:53:32\n",
            "1     rilldata/rill   main 2024-04-20 00:17:24\n",
            "2     rilldata/rill   main 2024-04-19 18:43:00\n",
            "3     rilldata/rill   main 2024-04-19 17:19:19\n",
            "4     rilldata/rill   main 2024-04-19 16:12:05\n",
            "...             ...    ...                 ...\n",
            "2922  rilldata/rill   main 2021-12-13 21:07:49\n",
            "2923  rilldata/rill   main 2021-12-11 22:03:50\n",
            "2924  rilldata/rill   main 2021-12-11 22:02:55\n",
            "2925  rilldata/rill   main 2021-12-09 22:00:23\n",
            "2926  rilldata/rill   main 2021-12-09 03:12:09\n",
            "\n",
            "                                                    url  \\\n",
            "0     https://api.github.com/repos/rilldata/rill/com...\n",
            "1     https://api.github.com/repos/rilldata/rill/com...\n",
            "2     https://api.github.com/repos/rilldata/rill/com...\n",
            "3     https://api.github.com/repos/rilldata/rill/com...\n",
            "4     https://api.github.com/repos/rilldata/rill/com...\n",
            "...                                                 ...\n",
            "2922  https://api.github.com/repos/rilldata/rill/com...\n",
            "2923  https://api.github.com/repos/rilldata/rill/com...\n",
            "2924  https://api.github.com/repos/rilldata/rill/com...\n",
            "2925  https://api.github.com/repos/rilldata/rill/com...\n",
            "2926  https://api.github.com/repos/rilldata/rill/com...\n",
            "\n",
            "                                           sha  \\\n",
            "0     11512d07425abee0d267cb336f8cbfbfdd250138\n",
            "1     e3627270a2ae5007175200aa9fbce4cf3410b195\n",
            "2     a261317819b17ce71cf6b0c45e05f72b38470d72\n",
            "3     bd18f91e5b0416402ca6ba1f77f9a79778f22437\n",
            "4     e6d57c0bf8c4d690239130b805fd272d3effeea3\n",
            "...                                        ...\n",
            "2922  10b27da26c66094d03badec60e56042f5c8b8778\n",
            "2923  59a057457f49c6d07fc47bc7ebe0e37b22bc57f2\n",
            "2924  1f50acac7abab15b908e7c29ab6f1ce035614723\n",
            "2925  dbfe5536df65a44e7cd90b8765733775ee1c9ccf\n",
            "2926  161f13cda914c6d5f5f86fe63978bf34972d6ec2\n",
            "\n",
            "                                                node_id  \\\n",
            "0     C_kwDOGgPzWNoAKDExNTEyZDA3NDI1YWJlZTBkMjY3Y2Iz...\n",
            "1     C_kwDOGgPzWNoAKGUzNjI3MjcwYTJhZTUwMDcxNzUyMDBh...\n",
            "2     C_kwDOGgPzWNoAKGEyNjEzMTc4MTliMTdjZTcxY2Y2YjBj...\n",
            "3     C_kwDOGgPzWNoAKGJkMThmOTFlNWIwNDE2NDAyY2E2YmEx...\n",
            "4     C_kwDOGgPzWNoAKGU2ZDU3YzBiZjhjNGQ2OTAyMzkxMzBi...\n",
            "...                                                 ...\n",
            "2922  C_kwDOGgPzWNoAKDEwYjI3ZGEyNmM2NjA5NGQwM2JhZGVj...\n",
            "2923  C_kwDOGgPzWNoAKDU5YTA1NzQ1N2Y0OWM2ZDA3ZmM0N2Jj...\n",
            "2924  C_kwDOGgPzWNoAKDFmNTBhY2FjN2FiYWIxNWI5MDhlN2My...\n",
            "2925  C_kwDOGgPzWNoAKGRiZmU1NTM2ZGY2NWE0NGU3Y2Q5MGI4...\n",
            "2926  C_kwDOGgPzWNoAKDE2MWYxM2NkYTkxNGM2ZDVmNWY4NmZl...\n",
            "\n",
            "                                               html_url  \\\n",
            "0     https://github.com/rilldata/rill/commit/11512d...\n",
            "1     https://github.com/rilldata/rill/commit/e36272...\n",
            "2     https://github.com/rilldata/rill/commit/a26131...\n",
            "3     https://github.com/rilldata/rill/commit/bd18f9...\n",
            "4     https://github.com/rilldata/rill/commit/e6d57c...\n",
            "...                                                 ...\n",
            "2922  https://github.com/rilldata/rill/commit/10b27d...\n",
            "2923  https://github.com/rilldata/rill/commit/59a057...\n",
            "2924  https://github.com/rilldata/rill/commit/1f50ac...\n",
            "2925  https://github.com/rilldata/rill/commit/dbfe55...\n",
            "2926  https://github.com/rilldata/rill/commit/161f13...\n",
            "\n",
            "                                           comments_url  \\\n",
            "0     https://api.github.com/repos/rilldata/rill/com...\n",
            "1     https://api.github.com/repos/rilldata/rill/com...\n",
            "2     https://api.github.com/repos/rilldata/rill/com...\n",
            "3     https://api.github.com/repos/rilldata/rill/com...\n",
            "4     https://api.github.com/repos/rilldata/rill/com...\n",
            "...                                                 ...\n",
            "2922  https://api.github.com/repos/rilldata/rill/com...\n",
            "2923  https://api.github.com/repos/rilldata/rill/com...\n",
            "2924  https://api.github.com/repos/rilldata/rill/com...\n",
            "2925  https://api.github.com/repos/rilldata/rill/com...\n",
            "2926  https://api.github.com/repos/rilldata/rill/com...\n",
            "\n",
            "                                                 commit  \\\n",
            "0     {\"author\":{\"name\":\"Eric P Green\",\"email\":\"eric...   \n",
            "1     {\"author\":{\"name\":\"Brian Holmes\",\"email\":\"1202...\n",
            "2     {\"author\":{\"name\":\"Aditya Hegde\",\"email\":\"adit...   \n",
            "3     {\"author\":{\"name\":\"Brian Holmes\",\"email\":\"1202...\n",
            "4     {\"author\":{\"name\":\"Aditya Hegde\",\"email\":\"adit...   \n",
            "...                                                 ...   \n",
            "2922  {\"author\":{\"name\":\"hamilton\",\"email\":\"hamilton...\n",
            "2923  {\"author\":{\"name\":\"Hamilton Ulmer\",\"email\":\"ha...   \n",
            "2924  {\"author\":{\"name\":\"hamilton\",\"email\":\"hamilton...\n",
            "2925  {\"author\":{\"name\":\"hamilton\",\"email\":\"hamilton...   \n",
            "2926  {\"author\":{\"name\":\"hamilton\",\"email\":\"hamilton...\n",
            "\n",
            "                                                 author  \\\n",
            "0     {\"login\":\"ericpgreen2\",\"id\"?,\"node_id\"...\n",
            "1     {\"login\":\"briangregoryholmes\",\"id\"?,\"...   \n",
            "2     {\"login\":\"AdityaHegde\",\"id\"?,\"node_id\":...   \n",
            "3     {\"login\":\"briangregoryholmes\",\"id\"?,\"...\n",
            "4     {\"login\":\"AdityaHegde\",\"id\"?,\"node_id\":...\n",
            "...                                                 ...\n",
            "2922  {\"login\":\"hamilton\",\"id\"?,\"node_id\":\"MDQ6...   \n",
            "2923  {\"login\":\"hamilton\",\"id\"?,\"node_id\":\"MDQ6...\n",
            "2924  {\"login\":\"hamilton\",\"id\"?,\"node_id\":\"MDQ6...   \n",
            "2925  {\"login\":\"hamilton\",\"id\"?,\"node_id\":\"MDQ6...\n",
            "2926  {\"login\":\"hamilton\",\"id\"?,\"node_id\":\"MDQ6...\n",
            "\n",
            "                                              committer  \\\n",
            "0     {\"login\":\"web-flow\",\"id\"?,\"node_id\":\"M...   \n",
            "1     {\"login\":\"web-flow\",\"id\"?,\"node_id\":\"M...\n",
            "2     {\"login\":\"web-flow\",\"id\"?,\"node_id\":\"M...   \n",
            "3     {\"login\":\"web-flow\",\"id\"?,\"node_id\":\"M...\n",
            "4     {\"login\":\"web-flow\",\"id\"?,\"node_id\":\"M...   \n",
            "...                                                 ...   \n",
            "2922  {\"login\":\"hamilton\",\"id\"?,\"node_id\":\"MDQ6...\n",
            "2923  {\"login\":\"web-flow\",\"id\"?,\"node_id\":\"M...   \n",
            "2924  {\"login\":\"hamilton\",\"id\"?,\"node_id\":\"MDQ6...\n",
            "2925  {\"login\":\"hamilton\",\"id\"?,\"node_id\":\"MDQ6...   \n",
            "2926  {\"login\":\"hamilton\",\"id\"?,\"node_id\":\"MDQ6...\n",
            "\n",
            "                                                parents  \\\n",
            "0     [{\"sha\":\"e3627270a2ae5007175200aa9fbce4cf3410b...   \n",
            "1     [{\"sha\":\"a261317819b17ce71cf6b0c45e05f72b38470...\n",
            "2     [{\"sha\":\"bd18f91e5b0416402ca6ba1f77f9a79778f22...   \n",
            "3     [{\"sha\":\"e6d57c0bf8c4d690239130b805fd272d3effe...\n",
            "4     [{\"sha\":\"3837d708cad869705953833a866dfc608f868...   \n",
            "...                                                 ...   \n",
            "2922  [{\"sha\":\"59a057457f49c6d07fc47bc7ebe0e37b22bc5...\n",
            "2923  [{\"sha\":\"161f13cda914c6d5f5f86fe63978bf34972d6...   \n",
            "2924  [{\"sha\":\"dbfe5536df65a44e7cd90b8765733775ee1c9...\n",
            "2925  [{\"sha\":\"161f13cda914c6d5f5f86fe63978bf34972d6...\n",
            "2926                                                 []\n",
            "\n",
            "                 _airbyte_raw_id   _airbyte_extracted_at _airbyte_meta\n",
            "0     01HW16DADYPNKXY5RCXG8KC4A3 2024-04-21 20:43:53.653            {}\n",
            "1     01HW16DAE0B0EWHZ7XGYH787J1 2024-04-21 20:43:53.655            {}\n",
            "2     01HW16DAE0FX64CVNAYZAWJFVS 2024-04-21 20:43:53.655            {}\n",
            "3     01HW16DAE1076B51M3GVCDDH4Q 2024-04-21 20:43:53.656            {}\n",
            "4     01HW16DAE2SDTJCM3K5VF4S2P5 2024-04-21 20:43:53.657            {}\n",
            "...                          ...                     ...           ...\n",
            "2922  01HW16DRBQ8ESE010NS039BQK1 2024-04-21 20:44:07.915            {}\n",
            "2923  01HW16DRBQDMC51D0NH0RE03NG 2024-04-21 20:44:07.916            {}\n",
            "2924  01HW16DRBRKYCCXNX4V1JVWS0B 2024-04-21 20:44:07.917            {}\n",
            "2925  01HW16DRBR4HGN2Y4WMJ5T7A02 2024-04-21 20:44:07.917            {}\n",
            "2926  01HW16DRBRNV0XJ1Q0RRVQMDVE 2024-04-21 20:44:07.918            {}\n",
            "\n",
            "[2927 rows x 15 columns] AS commits]\n",
            "(Background on this error at: https://sqlalche.me/e/14/cd3x)\n",
            "If you need help solving this issue, send us a message: https://ploomber.io/community\n"
          ]
        }
      ]
    }
  ],
  "metadata": {
    "colab": {
      "provenance": [],
      "authorship_tag": "ABX9TyMu+4ksAc6iwL5X+ZdNcxUi",
      "include_colab_link": true
    },
    "kernelspec": {
      "display_name": "Python 3",
      "name": "python3"
    },
    "language_info": {
      "name": "python"
    }
  },
  "nbformat": 4,
  "nbformat_minor": 0
}